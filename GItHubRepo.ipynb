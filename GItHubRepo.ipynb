{
 "cells": [
  {
   "cell_type": "code",
   "execution_count": 18,
   "metadata": {},
   "outputs": [
    {
     "name": "stdout",
     "output_type": "stream",
     "text": [
      "Heraldo Memelli 8135627\n",
      "2\n",
      "100 80\n",
      "Name: Memelli, Heraldo\n",
      "ID: 8135627\n",
      "Grade: O\n"
     ]
    }
   ],
   "source": [
    "#Day 12\n",
    "\n",
    "'''\n",
    "Task \n",
    "You are given two classes, Person and Student, where Person is the base class and Student is the derived class. Completed code for Person and a declaration for Student are provided for you in the editor. Observe that Student inherits all the properties of Person.\n",
    "\n",
    "Complete the Student class by writing the following:\n",
    "\n",
    "A Student class constructor, which has  parameters:\n",
    "A string, .\n",
    "A string, .\n",
    "An integer, .\n",
    "An integer array (or vector) of test scores, .\n",
    "A char calculate() method that calculates a Student object's average and returns the grade character representative of their calculated average:\n",
    "'''\n",
    "\n",
    "class Person:\n",
    "\tdef __init__(self, firstName, lastName, idNumber):\n",
    "\t\tself.firstName = firstName\n",
    "\t\tself.lastName = lastName\n",
    "\t\tself.idNumber = idNumber\n",
    "\tdef printPerson(self):\n",
    "\t\tprint(\"Name:\", self.lastName + \",\", self.firstName)\n",
    "\t\tprint(\"ID:\", self.idNumber)\n",
    "class Student(Person):\n",
    "    #   Class Constructor\n",
    "    #   \n",
    "    #   Parameters:\n",
    "    #   firstName - A string denoting the Person's first name.\n",
    "    #   lastName - A string denoting the Person's last name.\n",
    "    #   id - An integer denoting the Person's ID number.\n",
    "    #   scores - An array of integers denoting the Person's test scores.\n",
    "    #\n",
    "    # Write your constructor here\n",
    "    def __init__(self, firstName, lastName, id, scores):\n",
    "        self.firstName = firstName\n",
    "        self.lastName = lastName\n",
    "        self.idNumber = id\n",
    "        self.scores = scores\n",
    "\n",
    "    #   Function Name: calculate\n",
    "    #   Return: A character denoting the grade.\n",
    "    #\n",
    "    # Write your function here\n",
    "    \n",
    "    def calculate(self):\n",
    "        score_ = (sum(self.scores)/len(self.scores))\n",
    "        if score_ >= 90:\n",
    "            return('O')\n",
    "        if score_ >= 80:\n",
    "            return('E')\n",
    "        if score_ >= 70:\n",
    "            return('A')\n",
    "        if score_ >= 55:\n",
    "            return('P')\n",
    "        if score_ >= 40:\n",
    "            return('D')\n",
    "        else:\n",
    "            return('T')\n",
    "line = input().split()\n",
    "firstName = line[0]\n",
    "lastName = line[1]\n",
    "idNum = line[2]\n",
    "numScores = int(input()) # not needed for Python\n",
    "scores = list( map(int, input().split()) )\n",
    "s = Student(firstName, lastName, idNum, scores)\n",
    "s.printPerson()\n",
    "print(\"Grade:\", s.calculate())"
   ]
  },
  {
   "cell_type": "code",
   "execution_count": 17,
   "metadata": {},
   "outputs": [
    {
     "name": "stdout",
     "output_type": "stream",
     "text": [
      "1 1 1 1 1 1\n",
      "2 2 2 2 2 2\n",
      "3 3 3 3 3 3\n",
      "4 4 4 4 4 4\n",
      "5 5 5 5 5 5\n",
      "6 6 6 6 6 6\n",
      "35\n"
     ]
    }
   ],
   "source": [
    "#Day 11\n",
    "\n",
    "# Return the highest hourglass sum of a given matrix\n",
    "\n",
    "# an hour glass sum is the sum of all x elements in the following representation:\n",
    "\n",
    "'''\n",
    "X X X\n",
    "0 X 0\n",
    "X X X\n",
    "\n",
    "'''\n",
    "\n",
    "#!/bin/python3\n",
    "\n",
    "import math\n",
    "import os\n",
    "import random\n",
    "import re\n",
    "import sys\n",
    "\n",
    "\n",
    "if __name__ == '__main__':\n",
    "    arr = []\n",
    "    hr_glasses = []\n",
    "    \n",
    "    for _ in range(6):\n",
    "        arr.append(list(map(int, input().rstrip().split())))\n",
    "    \n",
    "    for row in range(len(arr))[:4]:\n",
    "        for index in range(len(arr[0]))[1:5]:\n",
    "            first = arr[row][index-1]\n",
    "            second = arr[row][index]\n",
    "            third = arr[row][index+1]\n",
    "            fourth = arr[row+1][index]\n",
    "            fifth = arr[row+2][index-1]\n",
    "            sixth = arr[row+2][index]\n",
    "            seventh = arr[row+2][index+1]\n",
    "            sum_=first+second+third+fourth+fifth+sixth+seventh\n",
    "            hr_glasses.append(sum_)\n",
    "    \n",
    "    print(max(hr_glasses))"
   ]
  },
  {
   "cell_type": "code",
   "execution_count": 15,
   "metadata": {},
   "outputs": [
    {
     "name": "stdout",
     "output_type": "stream",
     "text": [
      "any positive int: 6\n",
      "2\n"
     ]
    }
   ],
   "source": [
    "# Day 10\n",
    "\n",
    "# Given a base 10 number, n, print the number of the longest chain of consecutive 1s in the base-2 representation\n",
    "# of the number\n",
    "\n",
    "import re\n",
    "\n",
    "n = input('any positive int: ')\n",
    "\n",
    "base_2 = bin(int(n))[2:]\n",
    "\n",
    "arr = re.split('0+',base_2)\n",
    "\n",
    "print(len(max(arr, key=len)))\n",
    "\n"
   ]
  },
  {
   "cell_type": "code",
   "execution_count": 4,
   "metadata": {},
   "outputs": [
    {
     "name": "stdout",
     "output_type": "stream",
     "text": [
      "any positive int: 5\n"
     ]
    },
    {
     "data": {
      "text/plain": [
       "120"
      ]
     },
     "execution_count": 4,
     "metadata": {},
     "output_type": "execute_result"
    }
   ],
   "source": [
    "# DAY 9\n",
    "\n",
    "import os\n",
    "\n",
    "# Use recusrsion to return factorial of given n.\n",
    "def factorial(n):\n",
    "    n = int(n)\n",
    "    if n >1:\n",
    "        return(n*factorial(n-1))\n",
    "    else:\n",
    "        return (1)\n",
    "\n",
    "n = input('any positive int: ')\n",
    "\n",
    "factorial(n)\n"
   ]
  },
  {
   "cell_type": "code",
   "execution_count": 2,
   "metadata": {},
   "outputs": [
    {
     "name": "stdout",
     "output_type": "stream",
     "text": [
      "Hello, World.\n"
     ]
    }
   ],
   "source": [
    "#DAY 0\n",
    "\n",
    "\n",
    "# Print a string literal saying \"Hello, World.\" to stdout.\n",
    "print('Hello, World.')"
   ]
  },
  {
   "cell_type": "code",
   "execution_count": null,
   "metadata": {},
   "outputs": [],
   "source": [
    "#DAY 1\n",
    "\n",
    "# Declare second integer, double, and String variables.\n",
    "ii = 3\n",
    "dd = 2.8\n",
    "ss = 'is my favorite platform!'\n",
    "\n",
    "# Read and save an integer, double, and String to your variables.\n",
    "#above\n",
    "# Print the sum of both integer variables on a new line.\n",
    "print(i+ii)\n",
    "# Print the sum of the double variables on a new line.\n",
    "print(d+dd)\n",
    "# Concatenate and print the String variables on a new line\n",
    "print(s+ss)\n",
    "# The 's' variable above should be printed first."
   ]
  },
  {
   "cell_type": "code",
   "execution_count": 5,
   "metadata": {},
   "outputs": [
    {
     "name": "stdout",
     "output_type": "stream",
     "text": [
      "10\n",
      "15\n",
      "20\n",
      "The total meal cost is 14 dollars.\n"
     ]
    }
   ],
   "source": [
    "# DAY 2\n",
    "#!/bin/python3\n",
    "\n",
    "import math\n",
    "import os\n",
    "import random\n",
    "import re\n",
    "import sys\n",
    "\n",
    "# Given the cost of a meal, the tip percent, and tax percent, calculate the total bill\n",
    "def solve(meal_cost, tip_percent, tax_percent):\n",
    "    \n",
    "    tip = meal_cost*tip_percent/100.0\n",
    "    tax = meal_cost*tax_percent/100.0\n",
    "    total = meal_cost+tip+tax\n",
    "    rounded_total = round(total)\n",
    "    print('The total meal cost is '+str(rounded_total)+' dollars.')\n",
    "\n",
    "if __name__ == '__main__':\n",
    "    meal_cost = float(input())\n",
    "\n",
    "    tip_percent = int(input())\n",
    "\n",
    "    tax_percent = int(input())\n",
    "\n",
    "    solve(meal_cost, tip_percent, tax_percent)\n"
   ]
  },
  {
   "cell_type": "code",
   "execution_count": 7,
   "metadata": {},
   "outputs": [
    {
     "name": "stdout",
     "output_type": "stream",
     "text": [
      "3\n",
      "Weird\n"
     ]
    }
   ],
   "source": [
    "# Day 3\n",
    "'''\n",
    "If  is odd, print Weird\n",
    "If  is even and in the inclusive range of  to , print Not Weird\n",
    "If  is even and in the inclusive range of  to , print Weird\n",
    "If  is even and greater than , print Not Weird\n",
    "\n",
    "'''\n",
    "\n",
    "def logic(n):\n",
    "    if n%2 ==1:\n",
    "        print('Weird')\n",
    "    elif n%2==0 and n>=2 and n<=5:\n",
    "        print('Not Weird')\n",
    "    elif n%2==0 and n>=6 and n<=20:\n",
    "        print('Weird')\n",
    "    elif n%2==0 and n>20:\n",
    "        print('Not Weird')\n",
    "\n",
    "\n",
    "if __name__ == '__main__':\n",
    "    N = int(input())\n",
    "    logic(N)\n"
   ]
  },
  {
   "cell_type": "code",
   "execution_count": 8,
   "metadata": {},
   "outputs": [
    {
     "name": "stdout",
     "output_type": "stream",
     "text": [
      "1\n",
      "1\n",
      "You are young.\n",
      "You are young.\n",
      "\n"
     ]
    }
   ],
   "source": [
    "# DAY 4\n",
    "\n",
    "# Writing a person class with an amIOld function which :\n",
    "\n",
    "# should perform the following conditional actions:\n",
    "# If , print You are young..\n",
    "# If  and , print You are a teenager..\n",
    "# Otherwise, print You are old..\n",
    "\n",
    "class Person:\n",
    "    def __init__(self,initialAge):\n",
    "        if initialAge<0:\n",
    "            print('Age is not valid, setting age to 0.')\n",
    "            initialAge=0\n",
    "        self.age = initialAge\n",
    "    def amIOld(self):\n",
    "        # Do some computations in here and print out the correct statement to the console\n",
    "        if self.age<13:\n",
    "            print('You are young.')\n",
    "        elif self.age>=13 and self.age<18:\n",
    "            print('You are a teenager.')\n",
    "        else:\n",
    "            print('You are old.')\n",
    "    def yearPasses(self):\n",
    "        # Increment the age of the person in here\n",
    "        self.age+=1\n",
    "        \n",
    "t = int(input())\n",
    "for i in range(0, t):\n",
    "    age = int(input())         \n",
    "    p = Person(age)  \n",
    "    p.amIOld()\n",
    "    for j in range(0, 3):\n",
    "        p.yearPasses()       \n",
    "    p.amIOld()\n",
    "    print(\"\")"
   ]
  },
  {
   "cell_type": "code",
   "execution_count": 9,
   "metadata": {},
   "outputs": [
    {
     "name": "stdout",
     "output_type": "stream",
     "text": [
      "5\n",
      "5 x 1 = 5\n",
      "5 x 2 = 10\n",
      "5 x 3 = 15\n",
      "5 x 4 = 20\n",
      "5 x 5 = 25\n",
      "5 x 6 = 30\n",
      "5 x 7 = 35\n",
      "5 x 8 = 40\n",
      "5 x 9 = 45\n",
      "5 x 10 = 50\n"
     ]
    }
   ],
   "source": [
    "# DAY 5\n",
    "\n",
    "# Given n, print n's first 10 multiples.\n",
    "\n",
    "def linez(n):\n",
    "    for i in range(1,11):\n",
    "        print(\"{} x {} = {}\".format(n,i,n*i))\n",
    "\n",
    "\n",
    "if __name__ == '__main__':\n",
    "    n = int(input())\n",
    "    linez(n)\n"
   ]
  },
  {
   "cell_type": "code",
   "execution_count": 14,
   "metadata": {},
   "outputs": [
    {
     "name": "stdout",
     "output_type": "stream",
     "text": [
      "3\n",
      "apple\n",
      "orange\n",
      "peach\n",
      "ape pl\n",
      "oag rne\n",
      "pah ec\n"
     ]
    }
   ],
   "source": [
    "# DAY 6\n",
    "\n",
    "# Given a string S of length N, print it's even and odd characters seperately (separated by a space)\n",
    "\n",
    "x = input()\n",
    "\n",
    "variables = []\n",
    "for i in range(0,int(x)):\n",
    "    variables.append(input())\n",
    "\n",
    "for var in variables:\n",
    "    evens = []\n",
    "    odds = []\n",
    "    for i in range(0,len(var)):\n",
    "        if i % 2 == 0:\n",
    "            evens.append(var[i])\n",
    "        else:\n",
    "            odds.append(var[i])\n",
    "\n",
    "    even_string = ''.join(evens)\n",
    "    odd_string = ''.join(odds)\n",
    "    print(even_string, odd_string)\n",
    "\n",
    "        \n",
    "    "
   ]
  },
  {
   "cell_type": "code",
   "execution_count": 28,
   "metadata": {},
   "outputs": [
    {
     "name": "stdout",
     "output_type": "stream",
     "text": [
      "4\n",
      "1 2 3 4\n",
      "4 3 2 1 "
     ]
    }
   ],
   "source": [
    "# Day 7\n",
    "\n",
    "# Given an array of length N, print the reverse of the array\n",
    "\n",
    "\n",
    "if __name__ == '__main__':\n",
    "    n = int(input())\n",
    "    arr = list(map(int, input().rstrip().split()))\n",
    "    arr=arr[::-1]\n",
    "    for letter in arr:\n",
    "        print(letter, end=' ')"
   ]
  },
  {
   "cell_type": "code",
   "execution_count": 29,
   "metadata": {},
   "outputs": [
    {
     "name": "stdout",
     "output_type": "stream",
     "text": [
      "3\n",
      "sam 1203897412374\n",
      "allie 1223485904\n",
      "john 30930294\n",
      "sam\n",
      "sam=1203897412374\n",
      "allie\n",
      "allie=1223485904\n",
      "paxton\n",
      "Not found\n"
     ]
    }
   ],
   "source": [
    "# DAY 8\n",
    "\n",
    "# Given n names and numbers, build a dictionary. Query the dictionary and print not found if name is not key\n",
    "n = input()\n",
    "\n",
    "numbers= {}\n",
    "\n",
    "for i in range(0,int(n)):\n",
    "    entry = input().split(' ')\n",
    "    name = entry[0]\n",
    "    num = entry[1]\n",
    "    \n",
    "    numbers[name] = num\n",
    "\n",
    "for i in range(0, int(n)):\n",
    "    val = input()\n",
    "    if val in numbers.keys():\n",
    "        print(\"{}={}\".format(val, numbers[val]))\n",
    "    else:\n",
    "        print('Not found')"
   ]
  }
 ],
 "metadata": {
  "kernelspec": {
   "display_name": "Python 3",
   "language": "python",
   "name": "python3"
  },
  "language_info": {
   "codemirror_mode": {
    "name": "ipython",
    "version": 3
   },
   "file_extension": ".py",
   "mimetype": "text/x-python",
   "name": "python",
   "nbconvert_exporter": "python",
   "pygments_lexer": "ipython3",
   "version": "3.6.5"
  }
 },
 "nbformat": 4,
 "nbformat_minor": 2
}
